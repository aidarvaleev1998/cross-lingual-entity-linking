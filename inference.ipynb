{
 "cells": [
  {
   "cell_type": "code",
   "execution_count": 1,
   "metadata": {},
   "outputs": [],
   "source": [
    "from tqdm import tqdm"
   ]
  },
  {
   "cell_type": "markdown",
   "metadata": {},
   "source": [
    "### load wikititles"
   ]
  },
  {
   "cell_type": "code",
   "execution_count": 2,
   "metadata": {},
   "outputs": [],
   "source": [
    "# with open(\"sapbert/training_data/general_domain_parallel_data/en_ru_muse+wikititle_pairs.txt\", encoding=\"utf-8\") as f:\n",
    "#     wikititles = f.readlines()"
   ]
  },
  {
   "cell_type": "code",
   "execution_count": 3,
   "metadata": {},
   "outputs": [],
   "source": [
    "# wikititles = [x.strip().split(\"||\") for x in wikititles]"
   ]
  },
  {
   "cell_type": "code",
   "execution_count": 4,
   "metadata": {},
   "outputs": [
    {
     "data": {
      "text/plain": [
       "['MRU0', 'категория', 'category']"
      ]
     },
     "execution_count": 4,
     "metadata": {},
     "output_type": "execute_result"
    }
   ],
   "source": [
    "# wikititles[0]"
   ]
  },
  {
   "cell_type": "code",
   "execution_count": 5,
   "metadata": {},
   "outputs": [
    {
     "data": {
      "text/plain": [
       "935474"
      ]
     },
     "execution_count": 5,
     "metadata": {},
     "output_type": "execute_result"
    }
   ],
   "source": [
    "# len(wikititles)"
   ]
  },
  {
   "cell_type": "markdown",
   "metadata": {},
   "source": [
    "### load wikidata"
   ]
  },
  {
   "cell_type": "code",
   "execution_count": 12,
   "metadata": {},
   "outputs": [],
   "source": [
    "with open(\"wikidata-filtered-ru.tsv\", encoding=\"utf-8\") as f:\n",
    "    wikidata = f.readlines()"
   ]
  },
  {
   "cell_type": "code",
   "execution_count": 13,
   "metadata": {},
   "outputs": [],
   "source": [
    "wikidata = [x.strip().split(\"\\t\")[1:] for x in wikidata[1:]]"
   ]
  },
  {
   "cell_type": "code",
   "execution_count": 17,
   "metadata": {},
   "outputs": [
    {
     "data": {
      "text/plain": [
       "['Q5', 'Человек']"
      ]
     },
     "execution_count": 17,
     "metadata": {},
     "output_type": "execute_result"
    }
   ],
   "source": [
    "wikidata[0]"
   ]
  },
  {
   "cell_type": "code",
   "execution_count": 18,
   "metadata": {},
   "outputs": [
    {
     "data": {
      "text/plain": [
       "2930904"
      ]
     },
     "execution_count": 18,
     "metadata": {},
     "output_type": "execute_result"
    }
   ],
   "source": [
    "len(wikidata)"
   ]
  },
  {
   "cell_type": "markdown",
   "metadata": {},
   "source": [
    "### load sapbert"
   ]
  },
  {
   "cell_type": "code",
   "execution_count": 19,
   "metadata": {},
   "outputs": [],
   "source": [
    "from transformers import AutoTokenizer, AutoModel\n",
    "path = \"sapbert/train/tmp/xlmr_base_sap_xling_tuned\"\n",
    "tokenizer = AutoTokenizer.from_pretrained(path, local_files_only=True)  \n",
    "model = AutoModel.from_pretrained(path, local_files_only=True).cuda(0)"
   ]
  },
  {
   "cell_type": "code",
   "execution_count": 20,
   "metadata": {},
   "outputs": [],
   "source": [
    "import numpy as np\n",
    "import torch"
   ]
  },
  {
   "cell_type": "code",
   "execution_count": 38,
   "metadata": {},
   "outputs": [],
   "source": [
    "def encode(data, idx=1):\n",
    "    bs = 128\n",
    "    all_reps = []\n",
    "    for i in tqdm(np.arange(0, len(data), bs)):\n",
    "        batch = [x[idx] for x in data[i:i+bs]]\n",
    "        toks = tokenizer.batch_encode_plus(\n",
    "            batch, padding=\"max_length\", max_length=25, truncation=True, return_tensors=\"pt\"\n",
    "        )\n",
    "        toks_cuda = {}\n",
    "        for k,v in toks.items():\n",
    "            toks_cuda[k] = v.cuda(0)\n",
    "        output = model(**toks_cuda)\n",
    "\n",
    "    #     output = model(**toks)\n",
    "        cls_rep = output[0][:,0,:]\n",
    "\n",
    "        all_reps.append(cls_rep.cpu().detach().numpy())\n",
    "    return np.concatenate(all_reps, axis=0)"
   ]
  },
  {
   "cell_type": "markdown",
   "metadata": {},
   "source": [
    "#### encode wikidata labels"
   ]
  },
  {
   "cell_type": "code",
   "execution_count": 22,
   "metadata": {},
   "outputs": [
    {
     "name": "stderr",
     "output_type": "stream",
     "text": [
      "100%|██████████| 22898/22898 [32:14<00:00, 11.84it/s]\n"
     ]
    }
   ],
   "source": [
    "wikidata_emb = encode(wikidata)"
   ]
  },
  {
   "cell_type": "code",
   "execution_count": 23,
   "metadata": {},
   "outputs": [
    {
     "name": "stdout",
     "output_type": "stream",
     "text": [
      "(2930904, 768)\n"
     ]
    }
   ],
   "source": [
    "print(wikidata_emb.shape)"
   ]
  },
  {
   "cell_type": "markdown",
   "metadata": {},
   "source": [
    "### tacred EL"
   ]
  },
  {
   "cell_type": "code",
   "execution_count": 34,
   "metadata": {},
   "outputs": [],
   "source": [
    "import glob\n",
    "\n",
    "tacred = []\n",
    "for file in glob.glob(\"50text_tacred_EL/*.ann\"):\n",
    "    with open(file, encoding=\"utf-8\") as f:\n",
    "        data = f.readlines()\n",
    "\n",
    "    entities = {}\n",
    "    for line in data:\n",
    "        if \"Reference\" in line and \"Wikidata:\" in line:\n",
    "            tag, wd_id = line.split()[2:4]\n",
    "            entities[tag] = wd_id.replace(\"Wikidata:\", \"\")\n",
    "\n",
    "    for line in data:\n",
    "        tag, *tmp = line.split(\"\\t\")\n",
    "        if tag[0] == \"T\" and tag in entities:\n",
    "            tacred.append((entities[tag], tmp[1].strip()))\n",
    "\n",
    "\n",
    "tacred = list(set(tacred))"
   ]
  },
  {
   "cell_type": "code",
   "execution_count": 35,
   "metadata": {},
   "outputs": [
    {
     "name": "stdout",
     "output_type": "stream",
     "text": [
      "1420\n"
     ]
    }
   ],
   "source": [
    "print(len(tacred))"
   ]
  },
  {
   "cell_type": "code",
   "execution_count": 36,
   "metadata": {},
   "outputs": [
    {
     "name": "stdout",
     "output_type": "stream",
     "text": [
      "('Q145', 'Великобритании') ('Q494412', 'Ли Гонхи')\n"
     ]
    }
   ],
   "source": [
    "print(tacred[0], tacred[-1])"
   ]
  },
  {
   "cell_type": "code",
   "execution_count": 39,
   "metadata": {},
   "outputs": [
    {
     "name": "stderr",
     "output_type": "stream",
     "text": [
      "100%|██████████| 12/12 [00:01<00:00,  8.29it/s]"
     ]
    },
    {
     "name": "stdout",
     "output_type": "stream",
     "text": [
      "(1420, 768)\n"
     ]
    },
    {
     "name": "stderr",
     "output_type": "stream",
     "text": [
      "\n"
     ]
    }
   ],
   "source": [
    "tacred_emb = encode(tacred)\n",
    "print(tacred_emb.shape)"
   ]
  },
  {
   "cell_type": "markdown",
   "metadata": {},
   "source": [
    "#### encode nerel"
   ]
  },
  {
   "cell_type": "code",
   "execution_count": 10,
   "metadata": {},
   "outputs": [],
   "source": [
    "# import glob\n",
    "# data = []\n",
    "# for file in glob.glob(\"NEREL/train/*.ann\"):\n",
    "#     with open(file, encoding=\"utf-8\") as f:\n",
    "#         tmp = f.readlines()\n",
    "#         tmp = [file + \"\\t\" + x.replace(\"\\n\", \"\") for x in tmp]\n",
    "#         data.extend(tmp)\n",
    "# nerel = [x.split(\"\\t\") for x in data if x.split(\"\\t\")[1][0] == \"T\"]"
   ]
  },
  {
   "cell_type": "code",
   "execution_count": 14,
   "metadata": {},
   "outputs": [
    {
     "data": {
      "text/plain": [
       "44627"
      ]
     },
     "execution_count": 14,
     "metadata": {},
     "output_type": "execute_result"
    }
   ],
   "source": [
    "# len(nerel)"
   ]
  },
  {
   "cell_type": "code",
   "execution_count": 15,
   "metadata": {},
   "outputs": [
    {
     "data": {
      "text/plain": [
       "[['train/27439_text.ann', 'T2', 'PERSON 28 35', 'Норьеги'],\n",
       " ['train/27439_text.ann', 'T3', 'LOCATION 58 64', 'Боедик'],\n",
       " ['train/27439_text.ann', 'T4', 'LOCATION 66 72', 'Boëdic'],\n",
       " ['train/27439_text.ann', 'T5', 'COUNTRY 74 85', 'Французский'],\n",
       " ['train/27439_text.ann', 'T6', 'PERSON 94 108', 'Оливье Метцнер']]"
      ]
     },
     "execution_count": 15,
     "metadata": {},
     "output_type": "execute_result"
    }
   ],
   "source": [
    "# nerel[:5]"
   ]
  },
  {
   "cell_type": "code",
   "execution_count": 16,
   "metadata": {},
   "outputs": [
    {
     "name": "stderr",
     "output_type": "stream",
     "text": [
      "100%|██████████| 349/349 [00:28<00:00, 12.18it/s]"
     ]
    },
    {
     "name": "stdout",
     "output_type": "stream",
     "text": [
      "(44627, 768)\n"
     ]
    },
    {
     "name": "stderr",
     "output_type": "stream",
     "text": [
      "\n"
     ]
    }
   ],
   "source": [
    "# nerel_emb = encode(nerel, idx=3)\n",
    "# print(nerel_emb.shape)"
   ]
  },
  {
   "cell_type": "code",
   "execution_count": null,
   "metadata": {},
   "outputs": [],
   "source": [
    "# query = \"Доминик де Вильпен\"\n",
    "# query_toks = tokenizer.batch_encode_plus(\n",
    "#     [query], padding=\"max_length\", max_length=25, truncation=True, return_tensors=\"pt\"\n",
    "# )"
   ]
  },
  {
   "cell_type": "code",
   "execution_count": null,
   "metadata": {},
   "outputs": [],
   "source": [
    "# query_output = model(**query_toks)\n",
    "# query_cls_rep = query_output[0][:,0,:]"
   ]
  },
  {
   "cell_type": "code",
   "execution_count": null,
   "metadata": {},
   "outputs": [],
   "source": [
    "# query_cls_rep.shape"
   ]
  },
  {
   "cell_type": "markdown",
   "metadata": {},
   "source": [
    "#### find query's nearest neighbour"
   ]
  },
  {
   "cell_type": "code",
   "execution_count": 42,
   "metadata": {},
   "outputs": [
    {
     "name": "stdout",
     "output_type": "stream",
     "text": [
      "2930904\n",
      "CPU times: user 2min 22s, sys: 26.8 s, total: 2min 49s\n",
      "Wall time: 2min 57s\n"
     ]
    }
   ],
   "source": [
    "%%time\n",
    "# for large-scale search, should switch to faiss\n",
    "# from scipy.spatial.distance import cdist\n",
    "import faiss\n",
    "\n",
    "dim = 768\n",
    "\n",
    "index = faiss.index_factory(dim, \"IVF1000,Flat\")\n",
    "index.train(wikidata_emb)\n",
    "index.add(wikidata_emb)\n",
    "print(index.ntotal)"
   ]
  },
  {
   "cell_type": "code",
   "execution_count": 44,
   "metadata": {},
   "outputs": [
    {
     "name": "stdout",
     "output_type": "stream",
     "text": [
      "CPU times: user 49.4 s, sys: 20.2 ms, total: 49.4 s\n",
      "Wall time: 12.4 s\n"
     ]
    },
    {
     "data": {
      "text/plain": [
       "(1420, 1)"
      ]
     },
     "execution_count": 44,
     "metadata": {},
     "output_type": "execute_result"
    }
   ],
   "source": [
    "%%time\n",
    "topn = 1\n",
    "index.nprobe = 16  # Проходим по топ-16 центроид для поиска top-n ближайших соседей\n",
    "D, I = index.search(tacred_emb, topn)\n",
    "I.shape"
   ]
  },
  {
   "cell_type": "code",
   "execution_count": null,
   "metadata": {},
   "outputs": [],
   "source": [
    "# dist = cdist(query_cls_rep.cpu().detach().numpy(), all_reps_emb)\n",
    "# nn_index = np.argmin(dist)\n",
    "# print (\"predicted label:\", nerel[nn_index])"
   ]
  },
  {
   "cell_type": "code",
   "execution_count": 46,
   "metadata": {},
   "outputs": [
    {
     "data": {
      "text/plain": [
       "array([70])"
      ]
     },
     "execution_count": 46,
     "metadata": {},
     "output_type": "execute_result"
    }
   ],
   "source": [
    "I[0]"
   ]
  },
  {
   "cell_type": "code",
   "execution_count": 61,
   "metadata": {},
   "outputs": [],
   "source": [
    "result = [str(tacred[i]) + \"\\tPred: \" + str((wikidata[I[i][0]][0], wikidata[I[i][0]][1]))\n",
    "         for i in range(len(I))]\n",
    "\n",
    "with open(\"out.txt\", \"w\", encoding=\"utf-8\") as f:\n",
    "    for i in range(len(I)):\n",
    "        f.write(result[i] + \"\\n\")"
   ]
  },
  {
   "cell_type": "code",
   "execution_count": 63,
   "metadata": {},
   "outputs": [
    {
     "data": {
      "text/plain": [
       "\"('Q1501926', 'генпрокурор')\\tPred: ('Q449319', 'Генеральный прокурор Германии')\""
      ]
     },
     "execution_count": 63,
     "metadata": {},
     "output_type": "execute_result"
    }
   ],
   "source": [
    "result[1000]"
   ]
  },
  {
   "cell_type": "code",
   "execution_count": 55,
   "metadata": {},
   "outputs": [],
   "source": [
    "y_true = [x[0] for x in tacred]\n",
    "y_pred = [wikidata[i[0]][0] for i in I]"
   ]
  },
  {
   "cell_type": "code",
   "execution_count": 60,
   "metadata": {},
   "outputs": [
    {
     "data": {
      "text/plain": [
       "('Q1501926', 'Q449319')"
      ]
     },
     "execution_count": 60,
     "metadata": {},
     "output_type": "execute_result"
    }
   ],
   "source": [
    "y_true[1000], y_pred[1000]"
   ]
  },
  {
   "cell_type": "code",
   "execution_count": 59,
   "metadata": {},
   "outputs": [
    {
     "data": {
      "text/plain": [
       "0.4295774647887324"
      ]
     },
     "execution_count": 59,
     "metadata": {},
     "output_type": "execute_result"
    }
   ],
   "source": [
    "sum(t == p for t, p in zip(y_true, y_pred)) / len(y_true)"
   ]
  },
  {
   "cell_type": "code",
   "execution_count": null,
   "metadata": {},
   "outputs": [],
   "source": []
  }
 ],
 "metadata": {
  "kernelspec": {
   "display_name": "Python 3",
   "language": "python",
   "name": "python3"
  },
  "language_info": {
   "codemirror_mode": {
    "name": "ipython",
    "version": 3
   },
   "file_extension": ".py",
   "mimetype": "text/x-python",
   "name": "python",
   "nbconvert_exporter": "python",
   "pygments_lexer": "ipython3",
   "version": "3.6.9"
  },
  "toc": {
   "base_numbering": 1,
   "nav_menu": {},
   "number_sections": true,
   "sideBar": true,
   "skip_h1_title": false,
   "title_cell": "Table of Contents",
   "title_sidebar": "Contents",
   "toc_cell": false,
   "toc_position": {},
   "toc_section_display": true,
   "toc_window_display": false
  }
 },
 "nbformat": 4,
 "nbformat_minor": 4
}
